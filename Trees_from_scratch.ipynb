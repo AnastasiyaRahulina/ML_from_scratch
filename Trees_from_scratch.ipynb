{
  "nbformat": 4,
  "nbformat_minor": 0,
  "metadata": {
    "colab": {
      "provenance": [],
      "authorship_tag": "ABX9TyMLPQbKZhSgUzqxj5VHIECS",
      "include_colab_link": true
    },
    "kernelspec": {
      "name": "python3",
      "display_name": "Python 3"
    },
    "language_info": {
      "name": "python"
    }
  },
  "cells": [
    {
      "cell_type": "markdown",
      "metadata": {
        "id": "view-in-github",
        "colab_type": "text"
      },
      "source": [
        "<a href=\"https://colab.research.google.com/github/AnastasiyaRahulina/ML_from_scratch/blob/main/Trees_from_skratch.ipynb\" target=\"_parent\"><img src=\"https://colab.research.google.com/assets/colab-badge.svg\" alt=\"Open In Colab\"/></a>"
      ]
    },
    {
      "cell_type": "code",
      "source": [
        "import numpy as np\n",
        "from collections import Counter"
      ],
      "metadata": {
        "id": "4OTOn1F4ax_R"
      },
      "execution_count": null,
      "outputs": []
    },
    {
      "cell_type": "code",
      "execution_count": null,
      "metadata": {
        "id": "RW_YaRkzy3bA"
      },
      "outputs": [],
      "source": [
        "class Node:\n",
        "  def __init__(self, feature=None, treshold=None, left=None, right=None,*, value=None):\n",
        "    self.feature = feature\n",
        "    self.treshold = treshold\n",
        "    self.left = left\n",
        "    self.right =  right\n",
        "    self.value = value\n",
        "\n",
        "  def is_leaf_node(self):\n",
        "    return self.value is not None\n",
        "\n",
        "class DecisionTree:\n",
        "  def __init__(self, min_samples_split=2, max_depth=100, n_features=None):\n",
        "    self.min_samples_split = min_samples_split\n",
        "    self.max_depth = max_depth\n",
        "    self.n_features = n_features\n",
        "    self.root = None\n",
        "\n",
        "\n",
        "  def fit(self, X, y):\n",
        "    self.n_features = X.shape[1] if not self.n_features else min(self.n_features, X.shape[1])\n",
        "    self.root = self._grow_tree(X, y)\n",
        "\n",
        "  def _grow_tree(self, X, y, current_depth=0):\n",
        "    n_samples, n_features = X.shape\n",
        "    n_labels = len(np.unique(y))\n",
        "\n",
        "    #check stopping criteria\n",
        "    if current_depth >= self.max_depth or n_labels == 1 or n_samples < self.min_samples_split:\n",
        "      leaf_value = self._most_common_label(y)\n",
        "      return Node(value=leaf_value)\n",
        "\n",
        "    feature_idxs = np.random.choice(n_features, self.n_features, replace=False)\n",
        "\n",
        "    #find the best split\n",
        "    best_feature, best_treshold = self._best_split(X, y, feature_idxs)\n",
        "\n",
        "    #create child nodes\n",
        "    left_idxs, right_idxs = self._split(X[:, best_feature], best_treshold)\n",
        "    left = self._grow_tree(X[left_idxs,:], y[left_idxs], current_depth+1)\n",
        "    right = self._grow_tree(X[right_idxs,:], y[right_idxs], current_depth+1)\n",
        "    return Node(best_feature, best_treshold, left, right)\n",
        "\n",
        "  def _best_split(self, X, y, feature_idxs):\n",
        "    best_gain = -1\n",
        "    split_idx, split_treshold = None, None\n",
        "    for feature_idx in feature_idxs:\n",
        "      X_column = X[:, feature_idx]\n",
        "      tresholds = np.unique(X_column)\n",
        "      for thr in tresholds:\n",
        "        #calculate information gain\n",
        "        gain = self._information_gain(y, X_column, thr)\n",
        "        if gain > best_gain:\n",
        "          best_gain = gain\n",
        "          split_idx = feature_idx\n",
        "          split_treshold = thr\n",
        "    return split_idx, split_treshold\n",
        "\n",
        "  def _information_gain(self, y, X_column, treshold):\n",
        "    #parent entropy\n",
        "    parent_entropy = self._entropy(y)\n",
        "\n",
        "    #create children\n",
        "    left_idxs, right_idxs = self._split(X_column, treshold)\n",
        "    if len(left_idxs)==0 or len(right_idxs)==0:\n",
        "      return 0\n",
        "\n",
        "    #calculate the weighted avg entropy of the children\n",
        "    n = len(y)\n",
        "    n_l, n_r = len(left_idxs), len(right_idxs)\n",
        "    e_l, e_r = self._entropy(y[left_idxs]), self._entropy(y[right_idxs])\n",
        "    child_entropy = (n_l/n) * e_l + (n_r/n) * e_r\n",
        "\n",
        "    return parent_entropy - child_entropy\n",
        "\n",
        "\n",
        "    #calculate the information gain\n",
        "\n",
        "  def _split(self, X_column, treshold):\n",
        "    left_idxs = np.argwhere(X_column<=treshold).flatten()\n",
        "    right_idxs = np.argwhere(X_column>treshold).flatten()\n",
        "    return left_idxs, right_idxs\n",
        "\n",
        "\n",
        "  def _entropy(self, y):\n",
        "    histogram = np.bincount(y)\n",
        "    ps = histogram / len(y)\n",
        "    return -np.sum([p* np.log(p) for p in ps if p>0])\n",
        "\n",
        "\n",
        "  def _most_common_label(self, y):\n",
        "    return np.argmax(np.bincount(y))\n",
        "\n",
        "  def predict(self, X):\n",
        "    return np.array([self._traverse_tree(x, self.root) for x in X])\n",
        "\n",
        "  def _traverse_tree(self, x, node):\n",
        "    if node.is_leaf_node():\n",
        "      return node.value\n",
        "    if x[node.feature] <= node.treshold:\n",
        "      return self._traverse_tree(x, node.left)\n",
        "    return self._traverse_tree(x, node.right)\n",
        "\n",
        "\n",
        "\n",
        "\n"
      ]
    },
    {
      "cell_type": "code",
      "source": [
        "from sklearn import datasets\n",
        "from sklearn.model_selection import train_test_split\n"
      ],
      "metadata": {
        "id": "kprr8dGUpU9r"
      },
      "execution_count": null,
      "outputs": []
    },
    {
      "cell_type": "code",
      "source": [
        "data = datasets.load_breast_cancer()\n",
        "\n",
        "X, y = data.data, data.target\n",
        "X_train, X_test, y_train, y_test = train_test_split(X, y, test_size=0.2, random_state=55)\n",
        "\n",
        "clf = DecisionTree(max_depth=10)\n",
        "clf.fit(X_train, y_train)\n",
        "\n",
        "predictions = clf.predict(X_test)\n",
        "\n",
        "def accuracy(y_true, y_pred):\n",
        "  accuracy = np.sum(y_true == y_pred) / len(y_true)\n",
        "  return accuracy\n",
        "\n",
        "acc = accuracy(y_test, predictions)\n",
        "print(acc)"
      ],
      "metadata": {
        "colab": {
          "base_uri": "https://localhost:8080/"
        },
        "id": "fZ7mtwVYqX_f",
        "outputId": "c73c73c4-b09f-4c20-b9b5-41e1c74a789e"
      },
      "execution_count": null,
      "outputs": [
        {
          "output_type": "stream",
          "name": "stdout",
          "text": [
            "0.9210526315789473\n"
          ]
        }
      ]
    },
    {
      "cell_type": "code",
      "source": [
        "class RandomForest:\n",
        "    def __init__(self, n_trees=10, max_depth=10, min_samples_split=2, n_feature=None):\n",
        "        self.n_trees = n_trees\n",
        "        self.max_depth=max_depth\n",
        "        self.min_samples_split=min_samples_split\n",
        "        self.n_features=n_feature\n",
        "        self.trees = []\n",
        "\n",
        "    def fit(self, X, y):\n",
        "        self.trees = []\n",
        "        for _ in range(self.n_trees):\n",
        "            tree = DecisionTree(max_depth=self.max_depth,\n",
        "                            min_samples_split=self.min_samples_split,\n",
        "                            n_features=self.n_features)\n",
        "            X_sample, y_sample = self._bootstrap_samples(X, y)\n",
        "            tree.fit(X_sample, y_sample)\n",
        "            self.trees.append(tree)\n",
        "\n",
        "    def _bootstrap_samples(self, X, y):\n",
        "        n_samples = X.shape[0]\n",
        "        idxs = np.random.choice(n_samples, n_samples, replace=True)\n",
        "        return X[idxs], y[idxs]\n",
        "\n",
        "    def _most_common_label(self, y):\n",
        "        counter = Counter(y)\n",
        "        most_common = counter.most_common(1)[0][0]\n",
        "        return most_common\n",
        "\n",
        "    def predict(self, X):\n",
        "        predictions = np.array([tree.predict(X) for tree in self.trees])\n",
        "        tree_preds = np.swapaxes(predictions, 0, 1)\n",
        "        predictions = np.array([self._most_common_label(pred) for pred in tree_preds])\n",
        "        return predictions\n",
        "\n",
        "\n",
        "\n"
      ],
      "metadata": {
        "id": "XVGV9Doftl6U"
      },
      "execution_count": null,
      "outputs": []
    },
    {
      "cell_type": "code",
      "source": [
        "data = datasets.load_breast_cancer()\n",
        "\n",
        "X, y = data.data, data.target\n",
        "X_train, X_test, y_train, y_test = train_test_split(X, y, test_size=0.2, random_state=55)\n",
        "\n",
        "clf = RandomForest()\n",
        "clf.fit(X_train, y_train)\n",
        "predictions = clf.predict(X_test)\n",
        "acc = accuracy(y_test, predictions)\n",
        "print(acc)"
      ],
      "metadata": {
        "colab": {
          "base_uri": "https://localhost:8080/"
        },
        "id": "3M5D4Z06E96f",
        "outputId": "dd2a6be2-483f-4bbe-924c-61b043854a61"
      },
      "execution_count": null,
      "outputs": [
        {
          "output_type": "stream",
          "name": "stdout",
          "text": [
            "0.9649122807017544\n"
          ]
        }
      ]
    }
  ]
}
